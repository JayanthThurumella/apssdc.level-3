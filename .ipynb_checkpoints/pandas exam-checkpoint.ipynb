{
 "cells": [
  {
   "cell_type": "code",
   "execution_count": 1,
   "metadata": {},
   "outputs": [],
   "source": [
    "import pandas as ps\n",
    "import numpy as np"
   ]
  },
  {
   "cell_type": "markdown",
   "metadata": {},
   "source": [
    "# Write a Python program to add, subtract, multiple and divide two Pandas Series."
   ]
  },
  {
   "cell_type": "code",
   "execution_count": 2,
   "metadata": {},
   "outputs": [
    {
     "name": "stdout",
     "output_type": "stream",
     "text": [
      "add <PandasArray>\n",
      "[7, 9, 11, 13, 15]\n",
      "Length: 5, dtype: int32\n",
      "mutliple <PandasArray>\n",
      "[6, 14, 24, 36, 50]\n",
      "Length: 5, dtype: int32\n",
      "subtract <PandasArray>\n",
      "[-5, -5, -5, -5, -5]\n",
      "Length: 5, dtype: int32\n",
      "divide <PandasArray>\n",
      "[0.16666666666666666, 0.2857142857142857, 0.375, 0.4444444444444444, 0.5]\n",
      "Length: 5, dtype: float64\n"
     ]
    }
   ],
   "source": [
    "a=ps.array([1,2,3,4,5])\n",
    "b=ps.array([6,7,8,9,10])\n",
    "c=a+b\n",
    "d=a*b\n",
    "e=a-b\n",
    "f=a/b\n",
    "print(\"add\",c)\n",
    "print(\"mutliple\",d)\n",
    "print(\"subtract\",e)\n",
    "print(\"divide\",f)"
   ]
  },
  {
   "cell_type": "markdown",
   "metadata": {},
   "source": [
    "# Write a NumPy program to create a 3x3 matrix with values ranging from 2 to 10"
   ]
  },
  {
   "cell_type": "code",
   "execution_count": 3,
   "metadata": {},
   "outputs": [
    {
     "data": {
      "text/plain": [
       "array([[7, 9, 3],\n",
       "       [7, 4, 6],\n",
       "       [6, 9, 6]])"
      ]
     },
     "execution_count": 3,
     "metadata": {},
     "output_type": "execute_result"
    }
   ],
   "source": [
    "a=np.random.randint(low=2,high=10,size=9).reshape(3,3)\n",
    "a"
   ]
  },
  {
   "cell_type": "markdown",
   "metadata": {},
   "source": [
    "# Create a 3×3 numpy array, find out the Minimum,Maximum values and also their indices accordingly for each axes. Also find out the Statistical methods such as Standard Deviation,Cumulative sum and product."
   ]
  },
  {
   "cell_type": "code",
   "execution_count": 31,
   "metadata": {},
   "outputs": [
    {
     "name": "stdout",
     "output_type": "stream",
     "text": [
      "9\n",
      "4\n",
      "[ 4 11 15 21 27 32 37 46 55]\n",
      "1.7916128329552332\n",
      "[      4      28     112     672    4032   20160  100800  907200 8164800]\n"
     ]
    }
   ],
   "source": [
    "a=np.random.randint(low=2,high=10,size=9).reshape(3,3)\n",
    "print(a.max())\n",
    "print(a.min())\n",
    "print(np.cumsum(a))\n",
    "print(np.std(a))\n",
    "print(np.cumprod(a))"
   ]
  },
  {
   "cell_type": "markdown",
   "metadata": {},
   "source": [
    "# Illustrate the concept of splitting by taking random positive values and also implementing different stacking methods on them."
   ]
  },
  {
   "cell_type": "code",
   "execution_count": 4,
   "metadata": {},
   "outputs": [
    {
     "name": "stdout",
     "output_type": "stream",
     "text": [
      "[[3 9 4]\n",
      " [8 8 8]\n",
      " [2 5 8]\n",
      " [3 7 4]\n",
      " [9 5 7]\n",
      " [5 7 9]]\n",
      "-----------------------------------------------\n",
      "[[3 9 4 3 7 4]\n",
      " [8 8 8 9 5 7]\n",
      " [2 5 8 5 7 9]]\n"
     ]
    }
   ],
   "source": [
    "a=np.random.randint(low=2,high=10,size=9).reshape(3,3)\n",
    "b=np.random.randint(low=2,high=10,size=9).reshape(3,3)\n",
    "\n",
    "\n",
    "print(np.vstack((a,b)))\n",
    "print(\"-----------------------------------------------\")\n",
    "print(np.hstack((a,b)))"
   ]
  },
  {
   "cell_type": "markdown",
   "metadata": {},
   "source": [
    "# Write a Pandas program to change the order of index of a given series."
   ]
  },
  {
   "cell_type": "code",
   "execution_count": 65,
   "metadata": {},
   "outputs": [
    {
     "name": "stdout",
     "output_type": "stream",
     "text": [
      "   data\n",
      "a     1\n",
      "b     3\n",
      "c    45\n",
      "d     5\n",
      "e     6\n",
      "f    67\n",
      "g     7\n"
     ]
    },
    {
     "data": {
      "text/html": [
       "<div>\n",
       "<style scoped>\n",
       "    .dataframe tbody tr th:only-of-type {\n",
       "        vertical-align: middle;\n",
       "    }\n",
       "\n",
       "    .dataframe tbody tr th {\n",
       "        vertical-align: top;\n",
       "    }\n",
       "\n",
       "    .dataframe thead th {\n",
       "        text-align: right;\n",
       "    }\n",
       "</style>\n",
       "<table border=\"1\" class=\"dataframe\">\n",
       "  <thead>\n",
       "    <tr style=\"text-align: right;\">\n",
       "      <th></th>\n",
       "      <th>data</th>\n",
       "    </tr>\n",
       "  </thead>\n",
       "  <tbody>\n",
       "    <tr>\n",
       "      <th>a</th>\n",
       "      <td>1</td>\n",
       "    </tr>\n",
       "    <tr>\n",
       "      <th>c</th>\n",
       "      <td>45</td>\n",
       "    </tr>\n",
       "    <tr>\n",
       "      <th>d</th>\n",
       "      <td>5</td>\n",
       "    </tr>\n",
       "    <tr>\n",
       "      <th>b</th>\n",
       "      <td>3</td>\n",
       "    </tr>\n",
       "    <tr>\n",
       "      <th>f</th>\n",
       "      <td>67</td>\n",
       "    </tr>\n",
       "    <tr>\n",
       "      <th>e</th>\n",
       "      <td>6</td>\n",
       "    </tr>\n",
       "    <tr>\n",
       "      <th>g</th>\n",
       "      <td>7</td>\n",
       "    </tr>\n",
       "  </tbody>\n",
       "</table>\n",
       "</div>"
      ],
      "text/plain": [
       "   data\n",
       "a     1\n",
       "c    45\n",
       "d     5\n",
       "b     3\n",
       "f    67\n",
       "e     6\n",
       "g     7"
      ]
     },
     "execution_count": 65,
     "metadata": {},
     "output_type": "execute_result"
    }
   ],
   "source": [
    "a=ps.DataFrame({\"data\":[1,3,45,5,6,67,7],\n",
    "               },index=['a','b','c','d','e','f','g'])\n",
    "print(a)\n",
    "c=a.reindex(['a','c','d','b','f','e','g'])\n",
    "c"
   ]
  },
  {
   "cell_type": "markdown",
   "metadata": {},
   "source": [
    "# Write a Python program to convert a Panda module Series to Python list  and it's type\n"
   ]
  },
  {
   "cell_type": "code",
   "execution_count": 110,
   "metadata": {},
   "outputs": [
    {
     "name": "stdout",
     "output_type": "stream",
     "text": [
      "0    1\n",
      "1    2\n",
      "2    3\n",
      "3    4\n",
      "4    5\n",
      "5    6\n",
      "dtype: int64\n",
      "<class 'pandas.core.series.Series'>\n",
      "------------------------------\n",
      "[1, 2, 3, 4, 5, 6]\n",
      "<class 'list'>\n"
     ]
    }
   ],
   "source": [
    "panda=ps.Series([1,2,3,4,5,6])\n",
    "print(panda)\n",
    "print(type(panda))\n",
    "print(\"------------------------------\")\n",
    "a=(panda.tolist())\n",
    "print(a)\n",
    "print(type(a))"
   ]
  },
  {
   "cell_type": "markdown",
   "metadata": {},
   "source": [
    "# Write a Pandas program to create todays date"
   ]
  },
  {
   "cell_type": "code",
   "execution_count": 89,
   "metadata": {
    "scrolled": true
   },
   "outputs": [
    {
     "name": "stdout",
     "output_type": "stream",
     "text": [
      "2020-01-04 14:44:11.712102\n"
     ]
    }
   ],
   "source": [
    "print(pd.to_datetime(str(datetime.today()), format='%Y-%m-%d'))\n"
   ]
  },
  {
   "cell_type": "markdown",
   "metadata": {},
   "source": [
    " #  Write a Pandas program to select the rows where the score is missing, i.e. is NaN \n"
   ]
  },
  {
   "cell_type": "code",
   "execution_count": 121,
   "metadata": {},
   "outputs": [
    {
     "name": "stdout",
     "output_type": "stream",
     "text": [
      "      name  score  attempts qualify\n",
      "a   Sachin   12.5         1     yes\n",
      "b  Ganguly    9.0         3      no\n",
      "c    Kohli   16.5         2     yes\n",
      "d  Johnson    NaN         3      no\n",
      "e   Taylor    9.0         2      no\n",
      "f    Waugh   20.0         3     yes\n",
      "g   Yuvraj   14.5         1     yes\n",
      "h   Kambli    NaN         1      no\n",
      "i  Srinath    8.0         2      no\n",
      "j    Munaf   19.0         1     yes\n"
     ]
    },
    {
     "data": {
      "text/html": [
       "<div>\n",
       "<style scoped>\n",
       "    .dataframe tbody tr th:only-of-type {\n",
       "        vertical-align: middle;\n",
       "    }\n",
       "\n",
       "    .dataframe tbody tr th {\n",
       "        vertical-align: top;\n",
       "    }\n",
       "\n",
       "    .dataframe thead th {\n",
       "        text-align: right;\n",
       "    }\n",
       "</style>\n",
       "<table border=\"1\" class=\"dataframe\">\n",
       "  <thead>\n",
       "    <tr style=\"text-align: right;\">\n",
       "      <th></th>\n",
       "      <th>name</th>\n",
       "      <th>score</th>\n",
       "      <th>attempts</th>\n",
       "      <th>qualify</th>\n",
       "    </tr>\n",
       "  </thead>\n",
       "  <tbody>\n",
       "    <tr>\n",
       "      <th>d</th>\n",
       "      <td>Johnson</td>\n",
       "      <td>NaN</td>\n",
       "      <td>3</td>\n",
       "      <td>no</td>\n",
       "    </tr>\n",
       "    <tr>\n",
       "      <th>h</th>\n",
       "      <td>Kambli</td>\n",
       "      <td>NaN</td>\n",
       "      <td>1</td>\n",
       "      <td>no</td>\n",
       "    </tr>\n",
       "  </tbody>\n",
       "</table>\n",
       "</div>"
      ],
      "text/plain": [
       "      name  score  attempts qualify\n",
       "d  Johnson    NaN         3      no\n",
       "h   Kambli    NaN         1      no"
      ]
     },
     "execution_count": 121,
     "metadata": {},
     "output_type": "execute_result"
    }
   ],
   "source": [
    "exam_data = ps.DataFrame({\"name\": ['Sachin', 'Ganguly', 'Kohli', 'Johnson', 'Taylor','Waugh', 'Yuvraj', 'Kambli', 'Srinath', 'Munaf'],\n",
    "    \"score\":[12.5, 9, 16.5, np.nan, 9, 20, 14.5, np.nan, 8, 19],\n",
    "    \"attempts\":[1, 3, 2, 3, 2, 3, 1, 1, 2, 1],\n",
    "    \"qualify\":['yes', 'no', 'yes', 'no', 'no', 'yes', 'yes', 'no', 'no', 'yes']},index = ['a', 'b', 'c', 'd', 'e', 'f', 'g', 'h', 'i', 'j'] )\n",
    "print(exam_data)\n",
    "(exam_data[exam_data['score'].isnull()])"
   ]
  },
  {
   "cell_type": "code",
   "execution_count": 101,
   "metadata": {},
   "outputs": [
    {
     "name": "stdout",
     "output_type": "stream",
     "text": [
      "   foo bar  baz zoo\n",
      "0  one   A    1   x\n",
      "1  one   B    2   y\n",
      "2  one   C    3   z\n",
      "3  two   A    4   q\n",
      "4  two   B    5   w\n",
      "5  two   C    6   t\n"
     ]
    },
    {
     "data": {
      "text/html": [
       "<div>\n",
       "<style scoped>\n",
       "    .dataframe tbody tr th:only-of-type {\n",
       "        vertical-align: middle;\n",
       "    }\n",
       "\n",
       "    .dataframe tbody tr th {\n",
       "        vertical-align: top;\n",
       "    }\n",
       "\n",
       "    .dataframe thead th {\n",
       "        text-align: right;\n",
       "    }\n",
       "</style>\n",
       "<table border=\"1\" class=\"dataframe\">\n",
       "  <thead>\n",
       "    <tr style=\"text-align: right;\">\n",
       "      <th>bar</th>\n",
       "      <th>A</th>\n",
       "      <th>B</th>\n",
       "      <th>C</th>\n",
       "    </tr>\n",
       "    <tr>\n",
       "      <th>foo</th>\n",
       "      <th></th>\n",
       "      <th></th>\n",
       "      <th></th>\n",
       "    </tr>\n",
       "  </thead>\n",
       "  <tbody>\n",
       "    <tr>\n",
       "      <th>one</th>\n",
       "      <td>1</td>\n",
       "      <td>2</td>\n",
       "      <td>3</td>\n",
       "    </tr>\n",
       "    <tr>\n",
       "      <th>two</th>\n",
       "      <td>4</td>\n",
       "      <td>5</td>\n",
       "      <td>6</td>\n",
       "    </tr>\n",
       "  </tbody>\n",
       "</table>\n",
       "</div>"
      ],
      "text/plain": [
       "bar  A  B  C\n",
       "foo         \n",
       "one  1  2  3\n",
       "two  4  5  6"
      ]
     },
     "execution_count": 101,
     "metadata": {},
     "output_type": "execute_result"
    }
   ],
   "source": [
    "f = pd.DataFrame({'': ['one', 'one', 'one', 'two', 'two','two'],\n",
    "                   'bar': ['A', 'B', 'C', 'A', 'B', 'C'],\n",
    "                   'baz': [1, 2, 3, 4, 5, 6],\n",
    "                   'zoo': ['x', 'y', 'z', 'q', 'w', 't']})\n",
    "print(f)\n",
    "f.pivot(index='foo', columns='bar', values='baz')"
   ]
  },
  {
   "cell_type": "markdown",
   "metadata": {},
   "source": [
    "# Illustrate the difference between ravel and flatten by taking considering multidimensional array."
   ]
  },
  {
   "cell_type": "code",
   "execution_count": 157,
   "metadata": {},
   "outputs": [
    {
     "name": "stdout",
     "output_type": "stream",
     "text": [
      "[[ 1  2  3  4  5  6]\n",
      " [ 1  2 33  4  4  6]]\n",
      "flatten [ 1  2  3  4  5  6  1  2 33  4  4  6]\n",
      "------------------------------\n",
      "ravel [ 1  2  3  4  5  6  1  2 33  4  4  6]\n",
      "------------------------------\n",
      "[ 1  2  3  4  5  6  1  2 33  4  4  6]\n",
      "[ 1  1  2  2  3 33  4  4  5  4  6  6]\n",
      "ravel [ 1  2  3  4  5  6  1  2 33  4  4  6]\n"
     ]
    }
   ],
   "source": [
    "m=np.array([[1,2,3,4,5,6],[1,2,33,4,4,6]])\n",
    "print(m)\n",
    "print(\"flatten\",m.flatten())\n",
    "print(\"------------------------------\")\n",
    "print(\"ravel\",m.ravel())\n",
    "print(\"------------------------------\")\n",
    "print(m.reshape(-1))\n",
    "print(np.ravel(m, order='F'))\n",
    "print(\"ravel\",m.ravel())"
   ]
  },
  {
   "cell_type": "code",
   "execution_count": null,
   "metadata": {},
   "outputs": [],
   "source": []
  },
  {
   "cell_type": "code",
   "execution_count": null,
   "metadata": {},
   "outputs": [],
   "source": []
  }
 ],
 "metadata": {
  "kernelspec": {
   "display_name": "Python 3",
   "language": "python",
   "name": "python3"
  },
  "language_info": {
   "codemirror_mode": {
    "name": "ipython",
    "version": 3
   },
   "file_extension": ".py",
   "mimetype": "text/x-python",
   "name": "python",
   "nbconvert_exporter": "python",
   "pygments_lexer": "ipython3",
   "version": "3.7.3"
  }
 },
 "nbformat": 4,
 "nbformat_minor": 2
}
