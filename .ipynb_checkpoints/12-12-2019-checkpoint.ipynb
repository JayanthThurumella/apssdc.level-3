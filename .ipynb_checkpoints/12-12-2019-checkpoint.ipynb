{
 "cells": [
  {
   "cell_type": "code",
   "execution_count": 10,
   "metadata": {},
   "outputs": [
    {
     "name": "stdout",
     "output_type": "stream",
     "text": [
      "1\n",
      "navya.com\n",
      "['com']\n",
      "{'com': 1}\n",
      "com 1\n"
     ]
    }
   ],
   "source": [
    "a=int(input())\n",
    "list1=[]\n",
    "for i in range(a):\n",
    "    b=input()\n",
    "    b=b.split('.')\n",
    "    c=b[1]\n",
    "    list1.append(c)\n",
    "dict1={}\n",
    "for j in list1:\n",
    "    dict1[j]=list1.count(j)\n",
    "print(list1)\n",
    "print(dict1)\n",
    "a=max(dict1.values())\n",
    "for key,value in dict1.items():\n",
    "    if a==value:\n",
    "        print(key,value)"
   ]
  },
  {
   "cell_type": "code",
   "execution_count": null,
   "metadata": {},
   "outputs": [],
   "source": [
    "a={'a'=1,'b'}"
   ]
  }
 ],
 "metadata": {
  "kernelspec": {
   "display_name": "Python 3",
   "language": "python",
   "name": "python3"
  },
  "language_info": {
   "codemirror_mode": {
    "name": "ipython",
    "version": 3
   },
   "file_extension": ".py",
   "mimetype": "text/x-python",
   "name": "python",
   "nbconvert_exporter": "python",
   "pygments_lexer": "ipython3",
   "version": "3.7.3"
  }
 },
 "nbformat": 4,
 "nbformat_minor": 2
}
