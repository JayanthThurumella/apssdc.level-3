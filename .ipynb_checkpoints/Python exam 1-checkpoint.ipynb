{
 "cells": [
  {
   "cell_type": "markdown",
   "metadata": {},
   "source": [
    "## 1.Write a program to prompt the user for hours and rate per hour using input to compute gross pay.Pay the hourly rate for the hours up to 40 and 1.5 times the hourly rate for all hours worked above 40 hours.Use 45 hours and a rate of 10.50 per hour to test the program (the pay should be 498.75).You should use input to read a string and float() to convert the string to a number.\n",
    "## Do not worry about error checking the user input - assume the user types numbers properly.\n"
   ]
  },
  {
   "cell_type": "code",
   "execution_count": null,
   "metadata": {},
   "outputs": [],
   "source": []
  },
  {
   "cell_type": "markdown",
   "metadata": {},
   "source": [
    "\n",
    "## 3.Write code using find() and string slicing  to extract the number at the end of the line below. Convert the extracted value to a floating point number and print it out.\n",
    "## \ttext = \"X-DSPAM-Confidence:    0.8475\"\n",
    "\n"
   ]
  },
  {
   "cell_type": "code",
   "execution_count": 1,
   "metadata": {},
   "outputs": [
    {
     "name": "stdout",
     "output_type": "stream",
     "text": [
      "0.8475\n"
     ]
    }
   ],
   "source": [
    "text=\"X-DSPAM-Confidence: 0.8475\"\n",
    "a=text.find('0')\n",
    "b=text.find('5')\n",
    "res=text[a:b+1]\n",
    "print(res)"
   ]
  },
  {
   "cell_type": "code",
   "execution_count": 2,
   "metadata": {},
   "outputs": [
    {
     "name": "stdout",
     "output_type": "stream",
     "text": [
      " 0.8475\n"
     ]
    }
   ],
   "source": [
    "a=text.split(':')\n",
    "print(a[1])         ##### know text"
   ]
  },
  {
   "cell_type": "markdown",
   "metadata": {},
   "source": [
    "## 4.Write a program that prompts for a file name, then opens that file and reads through the file,and print the contents of the file in upper case.Use the file words.txt to produce the output below.You can download the sample data at  Use words.txt as the file name\n"
   ]
  },
  {
   "cell_type": "code",
   "execution_count": 13,
   "metadata": {},
   "outputs": [
    {
     "name": "stdout",
     "output_type": "stream",
     "text": [
      "iam jayanth\n",
      "studying b.tech\n",
      "civil\n",
      "178x5a133\n",
      " \n",
      "IAM JAYANTH\n",
      "STUDYING B.TECH\n",
      "CIVIL\n",
      "178X5A133\n",
      " \n",
      "iam jayanth\n",
      "studying b.tech\n",
      "civil\n",
      "178x5a133\n"
     ]
    }
   ],
   "source": [
    "file=open ('words.txt','r')\n",
    "a=file.read()\n",
    "print(a)\n",
    "print(\" \")\n",
    "print(a.upper())\n",
    "print(\" \")\n",
    "print(a.lower())"
   ]
  },
  {
   "cell_type": "markdown",
   "metadata": {},
   "source": [
    "## 5.Given the participants' score sheet for your University Sports Day, you are required to find the runner-up score. You are given  scores. Store them in a list and find the score of the runner-up.\n",
    "## Sample Input 0\n",
    "## 5\n",
    "## 2 3 6 6 5\n",
    "## Sample Output 0\n",
    "## 5\n"
   ]
  },
  {
   "cell_type": "code",
   "execution_count": 1,
   "metadata": {},
   "outputs": [
    {
     "name": "stdout",
     "output_type": "stream",
     "text": [
      "enter the no.of enter 4\n",
      "1\n",
      "2\n",
      "3\n",
      "3\n",
      "2\n"
     ]
    }
   ],
   "source": [
    "a=int(input(\"enter the no.of enter \"))\n",
    "b=[]\n",
    "c=[]\n",
    "for i in range(a):\n",
    "    d=int(input())\n",
    "    b.append(d)\n",
    "for j in b:\n",
    "    if j not in c:\n",
    "         c.append(j)\n",
    "c.sort()\n",
    "print(c[1])\n",
    "\n",
    "\n",
    "    \n",
    "    \n",
    "    "
   ]
  },
  {
   "cell_type": "markdown",
   "metadata": {},
   "source": [
    "\n",
    "## 6.You have been given an array A of size N consisting of positive integers. You need to find and print the product of all the numbers in this array\n",
    "## Input Format:The first line contains a single integer N denoting the size of the array. The next line contains N space separated integers denoting the elements of the array\n"
   ]
  },
  {
   "cell_type": "code",
   "execution_count": 1,
   "metadata": {},
   "outputs": [
    {
     "name": "stdout",
     "output_type": "stream",
     "text": [
      "5\n",
      "1\n",
      "2\n",
      "3\n",
      "4\n",
      "5\n",
      "120\n"
     ]
    }
   ],
   "source": [
    "a=int(input())\n",
    "list=[]\n",
    "res=1\n",
    "for i in range(a):\n",
    "    b=int(input())\n",
    "    list.append(b)\n",
    "for j in list:\n",
    "    res=res*j\n",
    "print(res)\n",
    "    "
   ]
  },
  {
   "cell_type": "code",
   "execution_count": 2,
   "metadata": {},
   "outputs": [
    {
     "name": "stdout",
     "output_type": "stream",
     "text": [
      "5\n",
      "*   *\n",
      "*   *\n",
      "*****\n",
      "*   *\n",
      "*   *\n",
      "*****\n",
      "*   *\n",
      "*   *\n",
      "*****\n",
      "*   *\n",
      "*   *\n",
      "*****\n",
      "*   *\n",
      "*   *\n",
      "*****\n",
      "*   *\n",
      "*   *\n"
     ]
    }
   ],
   "source": [
    "'''\n",
    "\n",
    "(7.Aditya is fond of ladders. Everyday he goes through pictures of ladders online but unfortunately today he ran out of ladder pictures online. Write a program to print “ladder with N steps”, which he can use to get his daily dose of ladder love.\n",
    " input:Input contains integer N, the number of steps in the ladder\n",
    " output:Print the ladder with the gap between two side rails being 3 spaces(“   “).\n",
    " Check the sample output for format of printing the ladder.\n",
    "SAMPLE INPUT\t\tSAMPLE OUTPUT\n",
    " 4\t\t\t\t*   *\n",
    "*   *\n",
    "*****\n",
    "*   *\n",
    "*   *\n",
    "*****\n",
    "*   *\n",
    "*   *\n",
    "*****\n",
    "*   *\n",
    "*   *\n",
    "*****\n",
    "*   *\n",
    "*   *\n",
    "\n",
    "'''\n",
    "a=int(input())\n",
    "for i in range(a):\n",
    "    print('*   *')  \n",
    "    print('*   *')  \n",
    "    print('*****')  \n",
    "print('*   *')  \n",
    "print('*   *')  \n"
   ]
  },
  {
   "cell_type": "markdown",
   "metadata": {},
   "source": [
    " "
   ]
  },
  {
   "cell_type": "code",
   "execution_count": 6,
   "metadata": {},
   "outputs": [
    {
     "name": "stdout",
     "output_type": "stream",
     "text": [
      "1\n",
      "2\n",
      "3\n",
      "4\n",
      "223422\n",
      "243242\n",
      "424\n",
      "24\n",
      "4453243\n",
      "5\n",
      "\n",
      "2\n",
      "5\n",
      "245\n",
      "25\n",
      "2155\n",
      "25\n",
      "25\n",
      "215\n",
      "25\n",
      "12\n",
      "12\n",
      "51\n",
      "ygyffhahf\n",
      "done\n",
      "Invalid Input\n",
      "Maximum is 4453243\n",
      "Minimum is  1\n"
     ]
    }
   ],
   "source": [
    "'''\n",
    "2.Write a program that repeatedly prompts a user for integer numbers until the user enters 'done'.Once 'done' is entered, print out the largest and smallest of the numbers.\n",
    "If the user enters anything other than a valid number catch it with a try/except\n",
    "and put out an appropriate message and ignore the number.Enter 7, 2, bob, 10, and 4 and match the output below.\n",
    "Invalid input \n",
    "Maximum is 10\n",
    "Minimum is 2\n",
    "\n",
    "'''\n",
    "b=[]\n",
    "string=[]\n",
    "while True:\n",
    "    a=input()\n",
    "    if a=='done':\n",
    "        break\n",
    "    else:\n",
    "        if a.isdigit():\n",
    "            b.append(int(a))\n",
    "        elif a.isalpha():\n",
    "            string.append(a)\n",
    "b.sort(reverse=True)\n",
    "if (len(string)>=1):\n",
    "    print(\"Invalid Input\")\n",
    "print(\"Maximum is\",b[0])\n",
    "print(\"Minimum is \",b[-1])\n",
    "            "
   ]
  },
  {
   "cell_type": "markdown",
   "metadata": {},
   "source": []
  }
 ],
 "metadata": {
  "kernelspec": {
   "display_name": "Python 3",
   "language": "python",
   "name": "python3"
  },
  "language_info": {
   "codemirror_mode": {
    "name": "ipython",
    "version": 3
   },
   "file_extension": ".py",
   "mimetype": "text/x-python",
   "name": "python",
   "nbconvert_exporter": "python",
   "pygments_lexer": "ipython3",
   "version": "3.7.3"
  }
 },
 "nbformat": 4,
 "nbformat_minor": 2
}
