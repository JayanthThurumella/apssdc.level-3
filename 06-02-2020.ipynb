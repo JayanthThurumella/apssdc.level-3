{
 "cells": [
  {
   "cell_type": "markdown",
   "metadata": {},
   "source": [
    "# Mail data analysis"
   ]
  },
  {
   "cell_type": "code",
   "execution_count": 1,
   "metadata": {},
   "outputs": [],
   "source": [
    "import pandas as pd\n",
    "import numpy as np\n",
    "import seaborn as sns\n",
    "import matplotlib.pyplot as plt\n",
    "import mailbox as mb\n",
    "import matplotlib.font_manager as fm\n",
    "from dateutil.parser import parse as pdt\n",
    "%matplotlib inline"
   ]
  },
  {
   "cell_type": "code",
   "execution_count": 2,
   "metadata": {},
   "outputs": [],
   "source": [
    "family='Myriad Pro'\n",
    "title_font=fm.FontProperties(family=family,style='normal',size=20,\n",
    "                            weight='normal',stretch='normal')\n",
    "label_font=fm.FontProperties(family=family,style='normal',size=20,\n",
    "                            weight='normal',stretch='normal')\n",
    "ticks_font=fm.FontProperties(family=family,style='normal',size=20,\n",
    "                            weight='normal',stretch='normal')"
   ]
  },
  {
   "cell_type": "markdown",
   "metadata": {},
   "source": [
    "# Load the gmail archive and parse date/times from messages"
   ]
  },
  {
   "cell_type": "code",
   "execution_count": 14,
   "metadata": {},
   "outputs": [
    {
     "name": "stdout",
     "output_type": "stream",
     "text": [
      "There are 391 messages in the archive. \n"
     ]
    }
   ],
   "source": [
    "loc='mail.mbox'\n",
    "mbox=mb.mbox(loc)\n",
    "print('There are {} messages in the archive. '.format(len(mbox)))"
   ]
  },
  {
   "cell_type": "markdown",
   "metadata": {},
   "source": [
    "# ex:-"
   ]
  },
  {
   "cell_type": "code",
   "execution_count": null,
   "metadata": {},
   "outputs": [],
   "source": []
  },
  {
   "cell_type": "code",
   "execution_count": 15,
   "metadata": {},
   "outputs": [
    {
     "name": "stdout",
     "output_type": "stream",
     "text": [
      "There are 299 messages with dates\n"
     ]
    }
   ],
   "source": [
    "all_dates=[]\n",
    "all_times=[]\n",
    "for message in mbox:\n",
    "    if not \"X-Gmail-Labels\" in message or ('X-Gmail-Labels' in message and not \"Chat\" in message[\"X-Gmail-Labels\"]):\n",
    "        \n",
    "        if'Date' in message and message['Date'] is not None:\n",
    "            try:\n",
    "                date,time=str(pdt(message['Date'])).split(' ') \n",
    "            except Exception as e:\n",
    "                print(e,message['Date'])\n",
    "            all_dates.append(date)\n",
    "            all_times.append(time)\n",
    "        else:\n",
    "                # hangouts messages have no DATE KEY ,so skip them\n",
    "            pass\n",
    "print('There are {:,} messages with dates'.format(len(all_dates)))                             "
   ]
  },
  {
   "cell_type": "code",
   "execution_count": 17,
   "metadata": {},
   "outputs": [
    {
     "name": "stdout",
     "output_type": "stream",
     "text": [
      "There are 136 dates with message\n"
     ]
    },
    {
     "data": {
      "text/plain": [
       "2018-08-28    2\n",
       "2018-08-29    1\n",
       "2018-10-14    1\n",
       "2018-10-20    1\n",
       "2018-10-26    3\n",
       "2018-11-05    4\n",
       "2018-11-20    1\n",
       "2018-12-02    1\n",
       "2019-01-10    2\n",
       "2019-02-03    3\n",
       "2019-02-27    4\n",
       "2019-04-05    1\n",
       "2019-05-03    1\n",
       "2019-05-18    2\n",
       "2019-07-20    1\n",
       "2019-07-26    1\n",
       "2019-07-31    2\n",
       "2019-08-01    1\n",
       "2019-08-02    2\n",
       "2019-08-10    2\n",
       "2019-08-12    1\n",
       "2019-08-16    8\n",
       "2019-08-17    1\n",
       "2019-08-18    2\n",
       "2019-08-19    2\n",
       "2019-08-20    3\n",
       "2019-08-21    3\n",
       "2019-08-22    3\n",
       "2019-08-23    1\n",
       "2019-08-25    1\n",
       "             ..\n",
       "2019-12-26    1\n",
       "2019-12-27    2\n",
       "2019-12-28    2\n",
       "2019-12-30    3\n",
       "2019-12-31    1\n",
       "2020-01-02    1\n",
       "2020-01-04    5\n",
       "2020-01-06    2\n",
       "2020-01-07    2\n",
       "2020-01-08    1\n",
       "2020-01-09    4\n",
       "2020-01-10    1\n",
       "2020-01-11    1\n",
       "2020-01-13    1\n",
       "2020-01-14    2\n",
       "2020-01-16    1\n",
       "2020-01-18    3\n",
       "2020-01-20    5\n",
       "2020-01-21    2\n",
       "2020-01-23    2\n",
       "2020-01-25    1\n",
       "2020-01-26    1\n",
       "2020-01-27    2\n",
       "2020-01-28    5\n",
       "2020-01-29    4\n",
       "2020-01-30    1\n",
       "2020-01-31    2\n",
       "2020-02-03    3\n",
       "2020-02-04    4\n",
       "2020-02-05    1\n",
       "Length: 136, dtype: int64"
      ]
     },
     "execution_count": 17,
     "metadata": {},
     "output_type": "execute_result"
    }
   ],
   "source": [
    "date_counts=pd.Series(all_dates).value_counts().sort_index()\n",
    "print('There are {:,} dates with message'.format(len(date_counts)))\n",
    "date_counts"
   ]
  },
  {
   "cell_type": "code",
   "execution_count": 18,
   "metadata": {},
   "outputs": [
    {
     "name": "stdout",
     "output_type": "stream",
     "text": [
      "There are 527 dates total in the range,with or without messages\n"
     ]
    },
    {
     "data": {
      "text/plain": [
       "2018-08-28    2\n",
       "2018-08-29    1\n",
       "2018-08-30    0\n",
       "2018-08-31    0\n",
       "2018-09-01    0\n",
       "2018-09-02    0\n",
       "2018-09-03    0\n",
       "2018-09-04    0\n",
       "2018-09-05    0\n",
       "2018-09-06    0\n",
       "2018-09-07    0\n",
       "2018-09-08    0\n",
       "2018-09-09    0\n",
       "2018-09-10    0\n",
       "2018-09-11    0\n",
       "2018-09-12    0\n",
       "2018-09-13    0\n",
       "2018-09-14    0\n",
       "2018-09-15    0\n",
       "2018-09-16    0\n",
       "2018-09-17    0\n",
       "2018-09-18    0\n",
       "2018-09-19    0\n",
       "2018-09-20    0\n",
       "2018-09-21    0\n",
       "2018-09-22    0\n",
       "2018-09-23    0\n",
       "2018-09-24    0\n",
       "2018-09-25    0\n",
       "2018-09-26    0\n",
       "             ..\n",
       "2020-01-07    2\n",
       "2020-01-08    1\n",
       "2020-01-09    4\n",
       "2020-01-10    1\n",
       "2020-01-11    1\n",
       "2020-01-12    0\n",
       "2020-01-13    1\n",
       "2020-01-14    2\n",
       "2020-01-15    0\n",
       "2020-01-16    1\n",
       "2020-01-17    0\n",
       "2020-01-18    3\n",
       "2020-01-19    0\n",
       "2020-01-20    5\n",
       "2020-01-21    2\n",
       "2020-01-22    0\n",
       "2020-01-23    2\n",
       "2020-01-24    0\n",
       "2020-01-25    1\n",
       "2020-01-26    1\n",
       "2020-01-27    2\n",
       "2020-01-28    5\n",
       "2020-01-29    4\n",
       "2020-01-30    1\n",
       "2020-01-31    2\n",
       "2020-02-01    0\n",
       "2020-02-02    0\n",
       "2020-02-03    3\n",
       "2020-02-04    4\n",
       "2020-02-05    1\n",
       "Length: 527, dtype: int64"
      ]
     },
     "execution_count": 18,
     "metadata": {},
     "output_type": "execute_result"
    }
   ],
   "source": [
    "date_range=pd.date_range(start=min(all_dates),end=max(all_dates),freq='D')\n",
    "index=date_range.map(lambda x:str(x.date()))\n",
    "date_counts=date_counts.reindex(index,fill_value=0)\n",
    "print('There are {:,} dates total in the range,with or without messages'.format(len(date_counts)))\n",
    "date_counts"
   ]
  },
  {
   "cell_type": "code",
   "execution_count": 25,
   "metadata": {},
   "outputs": [
    {
     "data": {
      "text/plain": [
       "126    2019-01-01\n",
       "491    2020-01-01\n",
       "dtype: object"
      ]
     },
     "execution_count": 25,
     "metadata": {},
     "output_type": "execute_result"
    }
   ],
   "source": [
    "xlabels=pd.Series([label if '01-01' in label else None for label in date_counts.index])\n",
    "xlabels=xlablels[pd.notnull(xlablels)]\n",
    "xlabels"
   ]
  },
  {
   "cell_type": "code",
   "execution_count": 29,
   "metadata": {},
   "outputs": [
    {
     "ename": "NameError",
     "evalue": "name 'fontproperties_font' is not defined",
     "output_type": "error",
     "traceback": [
      "\u001b[1;31m---------------------------------------------------------------------------\u001b[0m",
      "\u001b[1;31mNameError\u001b[0m                                 Traceback (most recent call last)",
      "\u001b[1;32m<ipython-input-29-811bd2c5dd1a>\u001b[0m in \u001b[0;36m<module>\u001b[1;34m\u001b[0m\n\u001b[0;32m      6\u001b[0m \u001b[0max\u001b[0m\u001b[1;33m.\u001b[0m\u001b[0mset_xticklabels\u001b[0m\u001b[1;33m(\u001b[0m\u001b[0mxlabels\u001b[0m\u001b[1;33m,\u001b[0m\u001b[0mrotation\u001b[0m\u001b[1;33m=\u001b[0m\u001b[1;36m35\u001b[0m\u001b[1;33m,\u001b[0m\u001b[0mrotation_mode\u001b[0m\u001b[1;33m=\u001b[0m\u001b[1;34m'anchor'\u001b[0m\u001b[1;33m,\u001b[0m\u001b[0mha\u001b[0m\u001b[1;33m=\u001b[0m\u001b[1;34m'right'\u001b[0m\u001b[1;33m,\u001b[0m\u001b[0mfontproperties\u001b[0m\u001b[1;33m=\u001b[0m\u001b[0mticks_font\u001b[0m\u001b[1;33m)\u001b[0m\u001b[1;33m\u001b[0m\u001b[1;33m\u001b[0m\u001b[0m\n\u001b[0;32m      7\u001b[0m \u001b[0max\u001b[0m\u001b[1;33m.\u001b[0m\u001b[0mset_ylabel\u001b[0m\u001b[1;33m(\u001b[0m\u001b[1;34m'Number of emails'\u001b[0m\u001b[1;33m,\u001b[0m\u001b[0mfontproperties\u001b[0m\u001b[1;33m=\u001b[0m\u001b[0mlabel_font\u001b[0m\u001b[1;33m)\u001b[0m\u001b[1;33m\u001b[0m\u001b[1;33m\u001b[0m\u001b[0m\n\u001b[1;32m----> 8\u001b[1;33m \u001b[0max\u001b[0m\u001b[1;33m.\u001b[0m\u001b[0mset_title\u001b[0m\u001b[1;33m(\u001b[0m\u001b[1;34m'Gmail traffic per day'\u001b[0m\u001b[1;33m,\u001b[0m\u001b[0mfontproperties_font\u001b[0m\u001b[1;33m)\u001b[0m\u001b[1;33m\u001b[0m\u001b[1;33m\u001b[0m\u001b[0m\n\u001b[0m\u001b[0;32m      9\u001b[0m \u001b[0mfig\u001b[0m\u001b[1;33m.\u001b[0m\u001b[0mtight_layout\u001b[0m\u001b[1;33m(\u001b[0m\u001b[1;33m)\u001b[0m\u001b[1;33m\u001b[0m\u001b[1;33m\u001b[0m\u001b[0m\n\u001b[0;32m     10\u001b[0m \u001b[0mfig\u001b[0m\u001b[1;33m.\u001b[0m\u001b[0msavefig\u001b[0m\u001b[1;33m(\u001b[0m\u001b[1;34m'gamail -traffic-day.png'\u001b[0m\u001b[1;33m,\u001b[0m\u001b[0mdpi\u001b[0m\u001b[1;33m=\u001b[0m\u001b[1;36m96\u001b[0m\u001b[1;33m)\u001b[0m\u001b[1;33m\u001b[0m\u001b[1;33m\u001b[0m\u001b[0m\n",
      "\u001b[1;31mNameError\u001b[0m: name 'fontproperties_font' is not defined"
     ]
    },
    {
     "data": {
      "image/png": "[encoded data removed]",
      "text/plain": [
       "<Figure size 1080x360 with 1 Axes>"
      ]
     },
     "metadata": {
      "needs_background": "light"
     },
     "output_type": "display_data"
    }
   ],
   "source": [
    "fig=plt.figure(figsize=[15,5])\n",
    "ax=date_counts.plot(kind='line',linewidth=0.5,alpha=1,c='r')\n",
    "ax.set_ylim(bottom=0)\n",
    "ax.grid(True,linestyle='--')\n",
    "ax.set_xticks(xlabels.index)\n",
    "ax.set_xticklabels(xlabels,rotation=35,rotation_mode='anchor',ha='right',fontproperties=ticks_font)\n",
    "ax.set_ylabel('Number of emails',fontproperties=label_font)\n",
    "ax.set_title('Gmail traffic per day',fontproperties_font)\n",
    "fig.tight_layout()\n",
    "fig.savefig('gamail -traffic-day.png',dpi=96)\n",
    "plt.show()"
   ]
  },
  {
   "cell_type": "code",
   "execution_count": null,
   "metadata": {},
   "outputs": [],
   "source": []
  }
 ],
 "metadata": {
  "kernelspec": {
   "display_name": "Python 3",
   "language": "python",
   "name": "python3"
  },
  "language_info": {
   "codemirror_mode": {
    "name": "ipython",
    "version": 3
   },
   "file_extension": ".py",
   "mimetype": "text/x-python",
   "name": "python",
   "nbconvert_exporter": "python",
   "pygments_lexer": "ipython3",
   "version": "3.7.3"
  }
 },
 "nbformat": 4,
 "nbformat_minor": 2
}
