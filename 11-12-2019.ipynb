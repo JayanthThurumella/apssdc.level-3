{
 "cells": [
  {
   "cell_type": "markdown",
   "metadata": {},
   "source": [
    "##  Dictionaries concept\n",
    "##### -collection of items enclosed by curly braces\n",
    "###### -ex.dict1={'key1:1,key2:2....}\n",
    "###### - duplicates not allowed\n",
    "###### -dict is mutable"
   ]
  },
  {
   "cell_type": "code",
   "execution_count": 12,
   "metadata": {},
   "outputs": [
    {
     "data": {
      "text/plain": [
       "{'id': 1, 'name': 'jayanth', 'salary': 35000, 'address': 'guntur'}"
      ]
     },
     "execution_count": 12,
     "metadata": {},
     "output_type": "execute_result"
    }
   ],
   "source": [
    "dict1={'id':1,\"name\":'jayanth','salary':35000,'address':'guntur'}\n",
    "dict1"
   ]
  },
  {
   "cell_type": "code",
   "execution_count": 13,
   "metadata": {},
   "outputs": [
    {
     "data": {
      "text/plain": [
       "dict_keys(['id', 'name', 'salary', 'address'])"
      ]
     },
     "execution_count": 13,
     "metadata": {},
     "output_type": "execute_result"
    }
   ],
   "source": [
    "dict1.keys()"
   ]
  },
  {
   "cell_type": "code",
   "execution_count": null,
   "metadata": {},
   "outputs": [],
   "source": []
  },
  {
   "cell_type": "code",
   "execution_count": 14,
   "metadata": {
    "scrolled": true
   },
   "outputs": [
    {
     "name": "stdout",
     "output_type": "stream",
     "text": [
      "id 1\n",
      "name jayanth\n",
      "salary 35000\n",
      "address guntur\n"
     ]
    }
   ],
   "source": [
    "for i,j in dict1.items():\n",
    "    print(i,j)"
   ]
  },
  {
   "cell_type": "code",
   "execution_count": 17,
   "metadata": {},
   "outputs": [],
   "source": [
    "dict1['gmail']='jayanththurimella@gmail.com'"
   ]
  },
  {
   "cell_type": "code",
   "execution_count": 18,
   "metadata": {},
   "outputs": [
    {
     "data": {
      "text/plain": [
       "{'id': 1,\n",
       " 'name': 'jayanth',\n",
       " 'salary': 35000,\n",
       " 'address': 'guntur',\n",
       " 'gmail': 'jayanththurimella@gmail.com'}"
      ]
     },
     "execution_count": 18,
     "metadata": {},
     "output_type": "execute_result"
    }
   ],
   "source": [
    "dict1"
   ]
  },
  {
   "cell_type": "code",
   "execution_count": 23,
   "metadata": {},
   "outputs": [],
   "source": [
    "dict1['address']='chebrolu,guntur'"
   ]
  },
  {
   "cell_type": "code",
   "execution_count": 24,
   "metadata": {},
   "outputs": [
    {
     "data": {
      "text/plain": [
       "{'id': 1,\n",
       " 'name': 'jayanth',\n",
       " 'salary': 35000,\n",
       " 'address': 'chebrolu,guntur',\n",
       " 'gmail': 'jayanththurimella@gmail.com'}"
      ]
     },
     "execution_count": 24,
     "metadata": {},
     "output_type": "execute_result"
    }
   ],
   "source": [
    "dict1"
   ]
  },
  {
   "cell_type": "code",
   "execution_count": 27,
   "metadata": {},
   "outputs": [],
   "source": [
    "dict1['salary']=60000"
   ]
  },
  {
   "cell_type": "code",
   "execution_count": 32,
   "metadata": {},
   "outputs": [
    {
     "data": {
      "text/plain": [
       "'chebrolu,guntur'"
      ]
     },
     "execution_count": 32,
     "metadata": {},
     "output_type": "execute_result"
    }
   ],
   "source": [
    "dict1.get('address')"
   ]
  },
  {
   "cell_type": "code",
   "execution_count": 33,
   "metadata": {},
   "outputs": [],
   "source": [
    "dict1.update(contact=8885788706)"
   ]
  },
  {
   "cell_type": "code",
   "execution_count": 34,
   "metadata": {},
   "outputs": [
    {
     "data": {
      "text/plain": [
       "{'id': 1,\n",
       " 'name': 'jayanth',\n",
       " 'salary': 60000,\n",
       " 'address': 'chebrolu,guntur',\n",
       " 'gmail': 'jayanththurimella@gmail.com',\n",
       " 'contact': 8885788706}"
      ]
     },
     "execution_count": 34,
     "metadata": {},
     "output_type": "execute_result"
    }
   ],
   "source": [
    "dict1"
   ]
  },
  {
   "cell_type": "code",
   "execution_count": 52,
   "metadata": {},
   "outputs": [
    {
     "name": "stdout",
     "output_type": "stream",
     "text": [
      "[99, 88, 87, 56, 40]\n",
      "99\n",
      "ram 40 avg average\n",
      "sai 88 second topper\n",
      "gopi 99 below toppers\n",
      "kumar 56 below toppers\n",
      "jai 87 below toppers\n",
      "jyo 88 second topper\n"
     ]
    }
   ],
   "source": [
    "d1={'ram':40,'sai':88,'gopi':99,'kumar':56,'jai':87,'jyo':88}\n",
    "list1=[]\n",
    "list2=[]\n",
    "for i in d1.values():\n",
    "    if i not in list1:\n",
    "        list1.append(i)\n",
    "list1.sort(reverse=True)\n",
    "print(list1)\n",
    "topper=print(max(list1))\n",
    "low=min(list1)\n",
    "for i,j in d1.items():\n",
    "    if topper==j:\n",
    "        print(i,j,\"topper\")\n",
    "    elif list1[1]==j:\n",
    "        print(i,j,\"second topper\")\n",
    "    elif low==j:\n",
    "        print(i,j,\"avg average\")\n",
    "    else:\n",
    "        print(i,j,\"below toppers\")\n",
    "    "
   ]
  },
  {
   "cell_type": "markdown",
   "metadata": {},
   "source": [
    "## FILES\n"
   ]
  },
  {
   "cell_type": "code",
   "execution_count": null,
   "metadata": {},
   "outputs": [],
   "source": [
    "open\n",
    "write\n",
    "read\n",
    "rename\n"
   ]
  },
  {
   "cell_type": "code",
   "execution_count": 53,
   "metadata": {
    "scrolled": true
   },
   "outputs": [
    {
     "data": {
      "text/plain": [
       "'C:\\\\Users\\\\apssdc\\\\Documents\\\\level 3'"
      ]
     },
     "execution_count": 53,
     "metadata": {},
     "output_type": "execute_result"
    }
   ],
   "source": [
    "import os\n",
    "os.getcwd()"
   ]
  },
  {
   "cell_type": "code",
   "execution_count": 55,
   "metadata": {},
   "outputs": [
    {
     "data": {
      "text/plain": [
       "['.ipynb_checkpoints', '09-12-19.ipynb', '12-12-2019.ipynb']"
      ]
     },
     "execution_count": 55,
     "metadata": {},
     "output_type": "execute_result"
    }
   ],
   "source": [
    "os.listdir()"
   ]
  },
  {
   "cell_type": "code",
   "execution_count": 75,
   "metadata": {},
   "outputs": [
    {
     "data": {
      "text/plain": [
       "<function TextIOWrapper.close()>"
      ]
     },
     "execution_count": 75,
     "metadata": {},
     "output_type": "execute_result"
    }
   ],
   "source": [
    "fn=open(\"test1.doc\",'x')\n",
    "fn.close()\n",
    "fn=open(\"fake.txt\",'x')\n",
    "fn.close"
   ]
  },
  {
   "cell_type": "code",
   "execution_count": 59,
   "metadata": {},
   "outputs": [
    {
     "data": {
      "text/plain": [
       "['.ipynb_checkpoints',\n",
       " '09-12-19.ipynb',\n",
       " '12-12-2019.ipynb',\n",
       " 'test1',\n",
       " 'test1.doc']"
      ]
     },
     "execution_count": 59,
     "metadata": {},
     "output_type": "execute_result"
    }
   ],
   "source": [
    "os.listdir()"
   ]
  },
  {
   "cell_type": "code",
   "execution_count": 63,
   "metadata": {},
   "outputs": [],
   "source": [
    "fn=open(\"test1.doc\",'w')\n",
    "fn.write(\"hello world\")\n",
    "fn.close()"
   ]
  },
  {
   "cell_type": "code",
   "execution_count": 67,
   "metadata": {},
   "outputs": [],
   "source": [
    "fn=open('test1.doc','a')\n",
    "fn.write(\"hi my name is jayanth\\n iam coming from chebrolu\")\n",
    "fn.close()"
   ]
  },
  {
   "cell_type": "code",
   "execution_count": 68,
   "metadata": {},
   "outputs": [
    {
     "name": "stdout",
     "output_type": "stream",
     "text": [
      "hello worldhi my name is jayanth\n",
      "iam coming from chebroluhi my name is jayanth\n",
      " iam coming from chebrolu\n"
     ]
    }
   ],
   "source": [
    "fn=open('test1.doc','r')\n",
    "a=fn.read()\n",
    "print(a)\n",
    "fn.close()"
   ]
  },
  {
   "cell_type": "code",
   "execution_count": 69,
   "metadata": {},
   "outputs": [],
   "source": [
    "os.rename('test1.doc','sample.doc')"
   ]
  },
  {
   "cell_type": "code",
   "execution_count": 71,
   "metadata": {},
   "outputs": [
    {
     "data": {
      "text/plain": [
       "['.ipynb_checkpoints', '09-12-19.ipynb', '12-12-2019.ipynb', 'sample.doc']"
      ]
     },
     "execution_count": 71,
     "metadata": {},
     "output_type": "execute_result"
    }
   ],
   "source": [
    "os.listdir()   ###checking"
   ]
  },
  {
   "cell_type": "code",
   "execution_count": 87,
   "metadata": {},
   "outputs": [
    {
     "name": "stdout",
     "output_type": "stream",
     "text": [
      "enter the mobile number +91 8885788706\n",
      "+91 8885788706  is valid number\n"
     ]
    }
   ],
   "source": [
    "import re\n",
    "num=input(\"enter the mobile number \")\n",
    "pattern='^[+][9][1][9876][0-9]{9}$|^[0][9876][0-9]{9}$|^[9876][0-9]{9}$|^[9876][0-9]{2}[-][0-9]{4}[-][0-9]{3}$|[+][9][1][ ][9876][0-9]{9}$'\n",
    "if re.search(pattern,num):\n",
    "    print(num,\" is valid number\")\n",
    "else:\n",
    "    print(num,\" is not valid number\")\n"
   ]
  },
  {
   "cell_type": "code",
   "execution_count": 85,
   "metadata": {},
   "outputs": [
    {
     "data": {
      "text/plain": [
       "['A',\n",
       " 'ASCII',\n",
       " 'DEBUG',\n",
       " 'DOTALL',\n",
       " 'I',\n",
       " 'IGNORECASE',\n",
       " 'L',\n",
       " 'LOCALE',\n",
       " 'M',\n",
       " 'MULTILINE',\n",
       " 'Match',\n",
       " 'Pattern',\n",
       " 'RegexFlag',\n",
       " 'S',\n",
       " 'Scanner',\n",
       " 'T',\n",
       " 'TEMPLATE',\n",
       " 'U',\n",
       " 'UNICODE',\n",
       " 'VERBOSE',\n",
       " 'X',\n",
       " '_MAXCACHE',\n",
       " '__all__',\n",
       " '__builtins__',\n",
       " '__cached__',\n",
       " '__doc__',\n",
       " '__file__',\n",
       " '__loader__',\n",
       " '__name__',\n",
       " '__package__',\n",
       " '__spec__',\n",
       " '__version__',\n",
       " '_cache',\n",
       " '_compile',\n",
       " '_compile_repl',\n",
       " '_expand',\n",
       " '_locale',\n",
       " '_pickle',\n",
       " '_special_chars_map',\n",
       " '_subx',\n",
       " 'compile',\n",
       " 'copyreg',\n",
       " 'enum',\n",
       " 'error',\n",
       " 'escape',\n",
       " 'findall',\n",
       " 'finditer',\n",
       " 'fullmatch',\n",
       " 'functools',\n",
       " 'match',\n",
       " 'purge',\n",
       " 'search',\n",
       " 'split',\n",
       " 'sre_compile',\n",
       " 'sre_parse',\n",
       " 'sub',\n",
       " 'subn',\n",
       " 'template']"
      ]
     },
     "execution_count": 85,
     "metadata": {},
     "output_type": "execute_result"
    }
   ],
   "source": [
    "dir(re)"
   ]
  },
  {
   "cell_type": "code",
   "execution_count": 3,
   "metadata": {},
   "outputs": [
    {
     "name": "stdout",
     "output_type": "stream",
     "text": [
      "valid numbers: ['8885788706', '09872723722', '+918993233444', '+91 9701682070', '987-2237-234']\n",
      "invalid numbers: ['764287423048095', '955062455', '678898344', '5689989878', '43535454543', '33', '53', '55', '435', '45632526', '5675', '65', '46', '46', '54', '56', '465', '766666666666663573785476575676']\n"
     ]
    }
   ],
   "source": [
    "import re\n",
    "n=open(\"mobile numbers.txt\",'r')\n",
    "a=n.read()\n",
    "a=a.split('\\n')\n",
    "valid=[]\n",
    "invalid=[]\n",
    "pattern='^[+][9][1][9876][0-9]{9}$|^[0][9876][0-9]{9}$|^[9876][0-9]{9}$|^[9876][0-9]{2}[-][0-9]{4}[-][0-9]{3}$|[+][9][1][ ][9876][0-9]{9}$'\n",
    "for i in a:\n",
    "    if re.search(pattern,i):\n",
    "        valid.append(i)\n",
    "    else:\n",
    "        invalid.append(i)\n",
    "print('valid numbers:',valid)\n",
    "print('invalid numbers:',invalid)"
   ]
  },
  {
   "cell_type": "code",
   "execution_count": null,
   "metadata": {},
   "outputs": [],
   "source": []
  }
 ],
 "metadata": {
  "kernelspec": {
   "display_name": "Python 3",
   "language": "python",
   "name": "python3"
  },
  "language_info": {
   "codemirror_mode": {
    "name": "ipython",
    "version": 3
   },
   "file_extension": ".py",
   "mimetype": "text/x-python",
   "name": "python",
   "nbconvert_exporter": "python",
   "pygments_lexer": "ipython3",
   "version": "3.7.3"
  }
 },
 "nbformat": 4,
 "nbformat_minor": 2
}
